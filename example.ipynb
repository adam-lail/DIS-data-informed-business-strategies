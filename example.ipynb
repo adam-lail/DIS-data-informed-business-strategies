{
 "cells": [
  {
   "cell_type": "code",
   "execution_count": 1,
   "metadata": {
    "ExecuteTime": {
     "end_time": "2025-01-30T17:55:33.516367Z",
     "start_time": "2025-01-30T17:55:25.956495Z"
    }
   },
   "outputs": [
    {
     "name": "stdout",
     "output_type": "stream",
     "text": [
      "Hello World\n",
      "its good to meet you Adam\n",
      "your name is Adam\n",
      "your name is Adam\n",
      "your name is 4 characters long\n",
      "your age next year will be 22\n"
     ]
    }
   ],
   "source": [
    "import random\n",
    "\n",
    "print(\"Hello World\")\n",
    "usr_name = input(\"Enter your name: \")\n",
    "print(f\"its good to meet you {usr_name}\")\n",
    "print(\"your name is\", usr_name)\n",
    "print(\"your name is\" + \" \" + usr_name)\n",
    "print(\"your name is\", len(usr_name), \"characters long\")\n",
    "usr_age = input(\"how old are you?\")\n",
    "print(\"your age next year will be\", int(usr_age) + 1)"
   ]
  },
  {
   "cell_type": "code",
   "execution_count": 2,
   "metadata": {
    "ExecuteTime": {
     "end_time": "2025-01-30T18:11:18.437687Z",
     "start_time": "2025-01-30T18:10:59.189772Z"
    }
   },
   "outputs": [
    {
     "name": "stdout",
     "output_type": "stream",
     "text": [
      "I am thinking of a number between 1 and 20\n",
      "Your guess is too high\n",
      "Good job! You guessed the number in 1 tries!\n"
     ]
    }
   ],
   "source": [
    "import random\n",
    "\n",
    "number = random.randint(1, 20)\n",
    "guesses_taken = 0\n",
    "print(\"I am thinking of a number between 1 and 20\")\n",
    "while True:\n",
    "    guess = int(input(\"Take a guess: \"))\n",
    "    if guess < number:\n",
    "        print(\"Your guess is too low\")\n",
    "        guesses_taken += 1\n",
    "    elif guess > number:\n",
    "        print(\"Your guess is too high\")\n",
    "        guesses_taken += 1\n",
    "    else:\n",
    "        print(f\"Good job! You guessed the number in {guesses_taken} tries!\")\n",
    "        break"
   ]
  }
 ],
 "metadata": {
  "kernelspec": {
   "display_name": "DataInformed",
   "language": "python",
   "name": "python3"
  },
  "language_info": {
   "codemirror_mode": {
    "name": "ipython",
    "version": 3
   },
   "file_extension": ".py",
   "mimetype": "text/x-python",
   "name": "python",
   "nbconvert_exporter": "python",
   "pygments_lexer": "ipython3",
   "version": "3.12.9"
  }
 },
 "nbformat": 4,
 "nbformat_minor": 2
}
